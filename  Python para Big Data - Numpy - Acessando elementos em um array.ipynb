{
 "cells": [
  {
   "cell_type": "code",
   "execution_count": 1,
   "metadata": {},
   "outputs": [],
   "source": [
    "import numpy as np"
   ]
  },
  {
   "cell_type": "code",
   "execution_count": 2,
   "metadata": {},
   "outputs": [],
   "source": [
    "a = np.zeros((6,6))"
   ]
  },
  {
   "cell_type": "code",
   "execution_count": 3,
   "metadata": {},
   "outputs": [
    {
     "name": "stdout",
     "output_type": "stream",
     "text": [
      "[[0. 0. 0. 0. 0. 0.]\n",
      " [0. 0. 0. 0. 0. 0.]\n",
      " [0. 0. 0. 0. 0. 0.]\n",
      " [0. 0. 0. 0. 0. 0.]\n",
      " [0. 0. 0. 0. 0. 0.]\n",
      " [0. 0. 0. 0. 0. 0.]]\n"
     ]
    }
   ],
   "source": [
    "print(a)"
   ]
  },
  {
   "cell_type": "code",
   "execution_count": 4,
   "metadata": {},
   "outputs": [
    {
     "name": "stdout",
     "output_type": "stream",
     "text": [
      "[0][0] = 0\n",
      "[0][1] = 1\n",
      "[0][2] = 2\n",
      "[0][3] = 3\n",
      "[0][4] = 4\n",
      "[0][5] = 5\n",
      "[1][0] = 10\n",
      "[1][1] = 11\n",
      "[1][2] = 12\n",
      "[1][3] = 13\n",
      "[1][4] = 14\n",
      "[1][5] = 15\n",
      "[2][0] = 20\n",
      "[2][1] = 21\n",
      "[2][2] = 22\n",
      "[2][3] = 23\n",
      "[2][4] = 24\n",
      "[2][5] = 25\n",
      "[3][0] = 30\n",
      "[3][1] = 31\n",
      "[3][2] = 32\n",
      "[3][3] = 33\n",
      "[3][4] = 34\n",
      "[3][5] = 35\n",
      "[4][0] = 40\n",
      "[4][1] = 41\n",
      "[4][2] = 42\n",
      "[4][3] = 43\n",
      "[4][4] = 44\n",
      "[4][5] = 45\n",
      "[5][0] = 50\n",
      "[5][1] = 51\n",
      "[5][2] = 52\n",
      "[5][3] = 53\n",
      "[5][4] = 54\n",
      "[5][5] = 55\n"
     ]
    }
   ],
   "source": [
    "for l in range(6):\n",
    "    for c in range(6):\n",
    "        a[l][c] = c + 10 * l\n",
    "        # debug\n",
    "        print(\"[\" + str(l) + \"]\" + \"[\" + str(c) + \"]\" + \" = \" + str(int(a[l][c])))"
   ]
  },
  {
   "cell_type": "code",
   "execution_count": 5,
   "metadata": {},
   "outputs": [
    {
     "name": "stdout",
     "output_type": "stream",
     "text": [
      "[[ 0.  1.  2.  3.  4.  5.]\n",
      " [10. 11. 12. 13. 14. 15.]\n",
      " [20. 21. 22. 23. 24. 25.]\n",
      " [30. 31. 32. 33. 34. 35.]\n",
      " [40. 41. 42. 43. 44. 45.]\n",
      " [50. 51. 52. 53. 54. 55.]]\n"
     ]
    }
   ],
   "source": [
    "print(a)"
   ]
  },
  {
   "cell_type": "code",
   "execution_count": 6,
   "metadata": {},
   "outputs": [
    {
     "data": {
      "text/plain": [
       "array([3., 4.])"
      ]
     },
     "execution_count": 6,
     "metadata": {},
     "output_type": "execute_result"
    }
   ],
   "source": [
    "a[0, 3:5]"
   ]
  },
  {
   "cell_type": "code",
   "execution_count": 7,
   "metadata": {},
   "outputs": [
    {
     "data": {
      "text/plain": [
       "array([[44., 45.],\n",
       "       [54., 55.]])"
      ]
     },
     "execution_count": 7,
     "metadata": {},
     "output_type": "execute_result"
    }
   ],
   "source": [
    "a[4:, 4:]"
   ]
  },
  {
   "cell_type": "code",
   "execution_count": 8,
   "metadata": {},
   "outputs": [
    {
     "data": {
      "text/plain": [
       "array([ 2., 12., 22., 32., 42., 52.])"
      ]
     },
     "execution_count": 8,
     "metadata": {},
     "output_type": "execute_result"
    }
   ],
   "source": [
    "a[:, 2]"
   ]
  },
  {
   "cell_type": "code",
   "execution_count": 9,
   "metadata": {},
   "outputs": [
    {
     "data": {
      "text/plain": [
       "array([[20., 22., 24.],\n",
       "       [40., 42., 44.]])"
      ]
     },
     "execution_count": 9,
     "metadata": {},
     "output_type": "execute_result"
    }
   ],
   "source": [
    "a[2::2, ::2]"
   ]
  },
  {
   "cell_type": "code",
   "execution_count": null,
   "metadata": {},
   "outputs": [],
   "source": []
  }
 ],
 "metadata": {
  "kernelspec": {
   "display_name": "Python 3",
   "language": "python",
   "name": "python3"
  },
  "language_info": {
   "codemirror_mode": {
    "name": "ipython",
    "version": 3
   },
   "file_extension": ".py",
   "mimetype": "text/x-python",
   "name": "python",
   "nbconvert_exporter": "python",
   "pygments_lexer": "ipython3",
   "version": "3.7.4"
  }
 },
 "nbformat": 4,
 "nbformat_minor": 2
}
